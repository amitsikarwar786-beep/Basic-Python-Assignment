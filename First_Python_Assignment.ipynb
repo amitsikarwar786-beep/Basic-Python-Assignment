{
  "nbformat": 4,
  "nbformat_minor": 0,
  "metadata": {
    "colab": {
      "provenance": []
    },
    "kernelspec": {
      "name": "python3",
      "display_name": "Python 3"
    },
    "language_info": {
      "name": "python"
    }
  },
  "cells": [
    {
      "cell_type": "markdown",
      "source": [
        "# Basic Python Q & A\n"
      ],
      "metadata": {
        "id": "Dprvew203L7I"
      }
    },
    {
      "cell_type": "markdown",
      "source": [
        "1. What is Python, and why is it popular?\n",
        "- Python is a simple and powerfull programming language.Its good for beginners.it is popular due to its: Easy syntax,Large standard library,Vast community support. With this, Websites,Data Science,Automation, Ai, etc; can be made.\n",
        "2. What is an interpreter in Python?\n",
        "- Interpreter is the Software that run Python code line by line, converting it into machine language.\n",
        "3. What are pre-defined keywords in Python?\n",
        "- These are reserved words that have already use by Python, like if, elite, else,True,False,For,etc. And can't use these word for variables name.\n",
        "4. Can keywords be used as variable names?\n",
        "- No, keywords name can't use as variable names.\n",
        "5. What is mutability in Python?\n",
        "- In Python, mutability refers to whether an objects value can be changed after it is created. Mutable objects are list,dict,set.\n",
        "6. Why are lists mutable, but tupls are immutable?\n",
        "- A list is mutable because it is designed to allow changes.\n",
        "     You can add, remove, or modify elements in a list without creating a new object.\n",
        "     A tuple is immutable because it is used to store fixed data.\n",
        "     Once created, its contents cannot be changed, making it safe, faster, and memory-efficient.\n",
        "7. Difference between == and is:\n",
        "- == compares values,\n",
        "     is compares memory addresses (identity)\n",
        "8. What are logical operators in Python?\n",
        "- logical operators are use in python to check multiple condition at     once.there are 3 logical operator in python: and,or,not.\n",
        "9. What is type casting in Python?\n",
        "- Converting one data type into another in python. It is used when you want to perform operations between different type of values. like, string to int, int to float, etc.\n",
        "10. Difference: Implicit vs Explicit Type Casting\n",
        "- Implicit: Python automatically convert one data type to another.\n",
        "     Explicit: Manually convert data type using these functions like, int(), float(), str(), etc.\n",
        "11. Purpose of conditional statements:\n",
        "- They allow a program to make decisions based on certain conditions.(if,elif,else)\n",
        "12. How does elif work?\n",
        "- elif is used when you want to test multiple conditions, after if and befor else.\n",
        "13. Difference: for vs while loop:\n",
        "- Both are used to repeat code. but they work differently.\n",
        "     For loop is used when you know how many times to run.\n",
        "     While loop is used when you run until a condition is false.\n",
        "14. Scenario for while loop:\n",
        "- A While loop is used when you don't know in advance how many times the loop will run,and want to run it based on a condition.\n"
      ],
      "metadata": {
        "id": "9o3NEZMz3scx"
      }
    },
    {
      "cell_type": "code",
      "execution_count": 45,
      "metadata": {
        "id": "W0RwZCfe2qv8",
        "colab": {
          "base_uri": "https://localhost:8080/"
        },
        "outputId": "3746bc32-1be1-47b9-dd23-4fa50a03f22f"
      },
      "outputs": [
        {
          "output_type": "stream",
          "name": "stdout",
          "text": [
            "Hello, World\n"
          ]
        }
      ],
      "source": [
        "#1.Write a Python program to print \"Hello, World!\n",
        "print(\"Hello, World\")"
      ]
    },
    {
      "cell_type": "code",
      "source": [
        "#2.Write a Python program that displays your name and age\n",
        "\n",
        "name=\"Amit\"\n",
        "age=32\n",
        "print(\"Name:\",name)\n",
        "print(\"Age:\",age)"
      ],
      "metadata": {
        "colab": {
          "base_uri": "https://localhost:8080/"
        },
        "id": "bd3RyFPrDiGd",
        "outputId": "fe4b589f-ea49-4dca-bf9f-e40ea3d4607e"
      },
      "execution_count": 3,
      "outputs": [
        {
          "output_type": "stream",
          "name": "stdout",
          "text": [
            "Name: Amit\n",
            "Age: 32\n"
          ]
        }
      ]
    },
    {
      "cell_type": "code",
      "source": [
        "#3. Write code to print all the pre-defined keywords in Python using the keyword library.\n",
        "import keyword\n",
        "print(\"List of Python keywords:\")\n",
        "print(keyword.kwlist)"
      ],
      "metadata": {
        "colab": {
          "base_uri": "https://localhost:8080/"
        },
        "id": "-3Xr3IcXHqWc",
        "outputId": "d34ff1c7-296c-4811-8a2b-4c03a2d3c457"
      },
      "execution_count": 4,
      "outputs": [
        {
          "output_type": "stream",
          "name": "stdout",
          "text": [
            "List of Python keywords:\n",
            "['False', 'None', 'True', 'and', 'as', 'assert', 'async', 'await', 'break', 'class', 'continue', 'def', 'del', 'elif', 'else', 'except', 'finally', 'for', 'from', 'global', 'if', 'import', 'in', 'is', 'lambda', 'nonlocal', 'not', 'or', 'pass', 'raise', 'return', 'try', 'while', 'with', 'yield']\n"
          ]
        }
      ]
    },
    {
      "cell_type": "code",
      "source": [
        "#4. Write a program that checks if a given word is a Python keyword.\n",
        "import keyword\n",
        "word = input(\"Enter a word: \")\n",
        "if keyword.iskeyword(word):\n",
        "    print(f\"{word} is a Python keyword.\")\n",
        "else:\n",
        "    print(f\"{word} is not a Python keyword.\")\n"
      ],
      "metadata": {
        "id": "TQYNRVxtZNqm",
        "colab": {
          "base_uri": "https://localhost:8080/"
        },
        "outputId": "ff348833-c5b0-4722-8596-f62093bd4ff4"
      },
      "execution_count": 9,
      "outputs": [
        {
          "output_type": "stream",
          "name": "stdout",
          "text": [
            "Enter a word: True\n",
            "True is a Python keyword.\n"
          ]
        }
      ]
    },
    {
      "cell_type": "code",
      "source": [
        "#5. Create a list and tuple in Python, and demonstrate how attempting to change an element works differently for each.\n",
        "my_list = [10,20,30]\n",
        "my_list[1] = 99\n",
        "print(my_list)\n",
        "\n",
        "my_tuple = (10,20,30)\n",
        "print(my_tuple)"
      ],
      "metadata": {
        "colab": {
          "base_uri": "https://localhost:8080/"
        },
        "id": "fxmUfb6rZOKF",
        "outputId": "b6f151fb-866d-4c15-90c8-b4950ccd7e60"
      },
      "execution_count": 7,
      "outputs": [
        {
          "output_type": "stream",
          "name": "stdout",
          "text": [
            "[10, 99, 30]\n",
            "(10, 20, 30)\n"
          ]
        }
      ]
    },
    {
      "cell_type": "code",
      "source": [
        "#6. Write a function to demonstrate the behavior of mutable and immutable arguments.\n",
        "def change_values(a, b):\n",
        "    a = a + 5\n",
        "    b.append(10)\n",
        "    print(\"Inside function:\", a, b)\n",
        "\n",
        "x = 5\n",
        "y = [1, 2, 3]\n",
        "\n",
        "print(\"Before:\", x, y)\n",
        "change_values(x, y)\n",
        "print(\"After:\", x, y)"
      ],
      "metadata": {
        "id": "UxUn6xAvb8ZN",
        "colab": {
          "base_uri": "https://localhost:8080/"
        },
        "outputId": "987b09d1-5db1-4f60-a61d-13d6cb48a60d"
      },
      "execution_count": 10,
      "outputs": [
        {
          "output_type": "stream",
          "name": "stdout",
          "text": [
            "Before: 5 [1, 2, 3]\n",
            "Inside function: 10 [1, 2, 3, 10]\n",
            "After: 5 [1, 2, 3, 10]\n"
          ]
        }
      ]
    },
    {
      "cell_type": "code",
      "source": [
        "#7. Write a program that performs basic arithmetic operations on two user-input numbers.\n",
        "a = int(input(\"Enter first number: \"))\n",
        "b = int(input(\"Enter second number: \"))\n",
        "\n",
        "print(\"Sum:\", a + b)\n",
        "print(\"Difference:\", a - b)\n",
        "print(\"Product:\", a * b)\n",
        "print(\"Quotient:\", a / b)\n",
        "print(\"Floor Division:\", a // b)\n",
        "print(\"Remainder:\", a % b)\n",
        "print(\"Power:\", a ** b)"
      ],
      "metadata": {
        "colab": {
          "base_uri": "https://localhost:8080/"
        },
        "id": "bre34tpUkmRy",
        "outputId": "cde70e5d-f15c-4dd0-afeb-dd407e94889b"
      },
      "execution_count": 13,
      "outputs": [
        {
          "output_type": "stream",
          "name": "stdout",
          "text": [
            "Enter first number: 9\n",
            "Enter second number: 5\n",
            "Sum: 14\n",
            "Difference: 4\n",
            "Product: 45\n",
            "Quotient: 1.8\n",
            "Floor Division: 1\n",
            "Remainder: 4\n",
            "Power: 59049\n"
          ]
        }
      ]
    },
    {
      "cell_type": "code",
      "source": [
        "#8. Write a program to demonstrate the use of logical operators.\n",
        "x=10\n",
        "y=5\n",
        "print(x>5 and y>2)\n",
        "print(x>5 and y>10)\n",
        "\n",
        "print(x>5 or y>10)\n",
        "print(x<5 or y>10)\n",
        "\n",
        "print(not(x>5))\n",
        "print(not(y>10))"
      ],
      "metadata": {
        "colab": {
          "base_uri": "https://localhost:8080/"
        },
        "id": "MyV4m5wFk4L6",
        "outputId": "aa00b229-2cb4-4f18-d539-4d120d18775a"
      },
      "execution_count": 22,
      "outputs": [
        {
          "output_type": "stream",
          "name": "stdout",
          "text": [
            "True\n",
            "False\n",
            "True\n",
            "False\n",
            "False\n",
            "True\n"
          ]
        }
      ]
    },
    {
      "cell_type": "code",
      "source": [
        "#9. Write a Python program to convert user input from string to integer, float, and boolean types.\n",
        "user_input = input(\"Number likho: \")\n",
        "\n",
        "num_int = int(user_input)\n",
        "print(\"Integer:\", num_int)\n",
        "\n",
        "num_float = float(user_input)\n",
        "print(\"Float:\", num_float)\n",
        "\n",
        "num_bool = bool(user_input)\n",
        "print(\"Boolean:\", num_bool)"
      ],
      "metadata": {
        "colab": {
          "base_uri": "https://localhost:8080/"
        },
        "id": "OiML8O99oDrS",
        "outputId": "2e3463a3-e941-4867-bd57-9af19fb1120c"
      },
      "execution_count": 26,
      "outputs": [
        {
          "output_type": "stream",
          "name": "stdout",
          "text": [
            "Number likho: 20\n",
            "Integer: 20\n",
            "Float: 20.0\n",
            "Boolean: True\n"
          ]
        }
      ]
    },
    {
      "cell_type": "code",
      "source": [
        "#10. Write code to demonstrate type casting with list elements.\n",
        "Numbers=[\"10\",\"20\",\"30\"]\n",
        "numbers_int=[int(x) for x in Numbers]\n",
        "print(numbers_int)\n",
        "\n",
        "numbers = [\"10\", \"20\", \"30\"]\n",
        "numbers_int = list(map(int, numbers))\n",
        "print(\"Original strings:\", numbers)\n",
        "print(\"After type casting to int:\", numbers_int)"
      ],
      "metadata": {
        "colab": {
          "base_uri": "https://localhost:8080/"
        },
        "id": "f6D4agvvqp6K",
        "outputId": "7077364c-ed5c-40ce-e810-7bf3060260c2"
      },
      "execution_count": 29,
      "outputs": [
        {
          "output_type": "stream",
          "name": "stdout",
          "text": [
            "[10, 20, 30]\n",
            "Original strings: ['10', '20', '30']\n",
            "After type casting to int: [10, 20, 30]\n"
          ]
        }
      ]
    },
    {
      "cell_type": "code",
      "source": [
        "#11. Write a program that checks if a number is positive, negative, or zero.\n",
        "\n",
        "num = float(input(\"Enter a number: \"))\n",
        "\n",
        "if num > 0:\n",
        "    print(\"Positive number\")\n",
        "elif num < 0:\n",
        "    print(\"Negative number\")\n",
        "else:\n",
        "    print(\"Zero\")"
      ],
      "metadata": {
        "colab": {
          "base_uri": "https://localhost:8080/"
        },
        "id": "06b-hBMgtG_i",
        "outputId": "cf5b19a3-f8ef-4495-8aae-def285189f46"
      },
      "execution_count": 33,
      "outputs": [
        {
          "output_type": "stream",
          "name": "stdout",
          "text": [
            "Enter a number: 15\n",
            "Positive number\n"
          ]
        }
      ]
    },
    {
      "cell_type": "code",
      "source": [
        "#12. Write a for loop to print numbers from 1 to 10.\n",
        "for i in range(1, 11):\n",
        "    print(i)"
      ],
      "metadata": {
        "colab": {
          "base_uri": "https://localhost:8080/"
        },
        "id": "RYW4cSOBvsE5",
        "outputId": "4021ae41-7c01-47a0-c1a9-1ee531e92c59"
      },
      "execution_count": 36,
      "outputs": [
        {
          "output_type": "stream",
          "name": "stdout",
          "text": [
            "1\n",
            "2\n",
            "3\n",
            "4\n",
            "5\n",
            "6\n",
            "7\n",
            "8\n",
            "9\n",
            "10\n"
          ]
        }
      ]
    },
    {
      "cell_type": "code",
      "source": [
        "#13. Write a Python program to find the sum of all even numbers between 1 and 50.\n",
        "TOTAL=0\n",
        "for i in range(1, 51):\n",
        "  if i % 2 == 0:\n",
        "    TOTAL += i\n",
        "\n",
        "    print(\"Sum of even numbers between 1 to 50:\", TOTAL)"
      ],
      "metadata": {
        "colab": {
          "base_uri": "https://localhost:8080/"
        },
        "id": "gb9epk3nwdRA",
        "outputId": "98707248-667c-44f5-cdb6-ea46e1e3b6d9"
      },
      "execution_count": 39,
      "outputs": [
        {
          "output_type": "stream",
          "name": "stdout",
          "text": [
            "Sum of even numbers between 1 to 50: 2\n",
            "Sum of even numbers between 1 to 50: 6\n",
            "Sum of even numbers between 1 to 50: 12\n",
            "Sum of even numbers between 1 to 50: 20\n",
            "Sum of even numbers between 1 to 50: 30\n",
            "Sum of even numbers between 1 to 50: 42\n",
            "Sum of even numbers between 1 to 50: 56\n",
            "Sum of even numbers between 1 to 50: 72\n",
            "Sum of even numbers between 1 to 50: 90\n",
            "Sum of even numbers between 1 to 50: 110\n",
            "Sum of even numbers between 1 to 50: 132\n",
            "Sum of even numbers between 1 to 50: 156\n",
            "Sum of even numbers between 1 to 50: 182\n",
            "Sum of even numbers between 1 to 50: 210\n",
            "Sum of even numbers between 1 to 50: 240\n",
            "Sum of even numbers between 1 to 50: 272\n",
            "Sum of even numbers between 1 to 50: 306\n",
            "Sum of even numbers between 1 to 50: 342\n",
            "Sum of even numbers between 1 to 50: 380\n",
            "Sum of even numbers between 1 to 50: 420\n",
            "Sum of even numbers between 1 to 50: 462\n",
            "Sum of even numbers between 1 to 50: 506\n",
            "Sum of even numbers between 1 to 50: 552\n",
            "Sum of even numbers between 1 to 50: 600\n",
            "Sum of even numbers between 1 to 50: 650\n"
          ]
        }
      ]
    },
    {
      "cell_type": "code",
      "source": [
        "#14. Write a program to reverse a string using a while loop.\n",
        "text = input(\"Enter a string: \")\n",
        "\n",
        "index = len(text) - 1\n",
        "reverse_text = \"\"\n",
        "\n",
        "while index >= 0:\n",
        "    reverse_text += text[index]\n",
        "    index -= 1\n",
        "\n",
        "print(\"Reversed string:\", reverse_text)"
      ],
      "metadata": {
        "colab": {
          "base_uri": "https://localhost:8080/"
        },
        "id": "Je5AVC170Xqy",
        "outputId": "723d73f5-9307-45ff-f101-263cc39b53e9"
      },
      "execution_count": 43,
      "outputs": [
        {
          "output_type": "stream",
          "name": "stdout",
          "text": [
            "Enter a string: SIKARWAR\n",
            "Reversed string: RAWRAKIS\n"
          ]
        }
      ]
    },
    {
      "cell_type": "code",
      "source": [
        "#15. Write a Python program to calculate the factorial of a number provided by the user using a while loop.\n",
        "num = int(input(\"Enter a number: \"))\n",
        "\n",
        "factorial = 1\n",
        "i = 1\n",
        "\n",
        "while i <= num:\n",
        "    factorial *= i\n",
        "    i += 1\n",
        "\n",
        "print(\"Factorial of\", num, \"is\", factorial)"
      ],
      "metadata": {
        "colab": {
          "base_uri": "https://localhost:8080/"
        },
        "id": "5xGzCVCs074I",
        "outputId": "b400f08e-3a11-4531-a16f-495bdd37b1a6"
      },
      "execution_count": 44,
      "outputs": [
        {
          "output_type": "stream",
          "name": "stdout",
          "text": [
            "Enter a number: 5\n",
            "Factorial of 5 is 120\n"
          ]
        }
      ]
    }
  ]
}